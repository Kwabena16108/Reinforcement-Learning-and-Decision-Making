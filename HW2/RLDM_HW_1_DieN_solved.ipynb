{
 "cells": [
  {
   "cell_type": "markdown",
   "metadata": {},
   "source": [
    "#### Reinforcement Learning and Decision Making &nbsp;&nbsp;&nbsp;&nbsp;&nbsp;&nbsp;&nbsp;&nbsp;&nbsp;&nbsp; &nbsp;&nbsp;&nbsp;&nbsp;&nbsp;&nbsp;&nbsp;&nbsp;&nbsp;&nbsp;&nbsp;&nbsp;&nbsp;&nbsp;&nbsp;&nbsp;&nbsp;&nbsp;&nbsp;&nbsp;&nbsp;&nbsp;&nbsp;&nbsp;&nbsp;&nbsp;&nbsp;&nbsp;&nbsp;&nbsp;&nbsp;&nbsp;&nbsp;&nbsp;&nbsp;&nbsp;&nbsp;&nbsp;&nbsp;&nbsp;&nbsp;&nbsp;&nbsp;&nbsp;&nbsp;&nbsp;&nbsp;&nbsp;&nbsp;&nbsp;&nbsp;&nbsp;&nbsp;&nbsp;&nbsp;&nbsp;&nbsp;&nbsp;&nbsp;&nbsp;&nbsp;&nbsp;&nbsp;&nbsp;&nbsp;&nbsp;&nbsp;&nbsp;&nbsp;&nbsp;&nbsp;&nbsp;&nbsp;&nbsp;&nbsp;&nbsp;&nbsp;&nbsp;&nbsp;Homework #1\n",
    "\n",
    "# &nbsp;&nbsp;&nbsp;&nbsp;&nbsp;&nbsp;&nbsp;&nbsp;&nbsp;&nbsp; &nbsp;&nbsp;&nbsp;&nbsp;&nbsp;&nbsp;&nbsp;&nbsp;&nbsp;&nbsp;&nbsp;&nbsp;&nbsp;&nbsp;&nbsp;&nbsp;&nbsp;&nbsp;&nbsp;&nbsp;&nbsp;&nbsp;&nbsp;&nbsp;&nbsp;&nbsp;&nbsp;&nbsp;&nbsp;&nbsp;&nbsp;&nbsp;Planning in MDPs"
   ]
  },
  {
   "cell_type": "markdown",
   "metadata": {},
   "source": [
    "## Description\n",
    "\n",
    "You are given an $N$-sided die, along with a corresponding Boolean mask\n",
    "vector, `is_bad_side` (i.e., a vector of ones and zeros). You can assume\n",
    "that $1<N\\leq30$, and the vector `is_bad_side` is also of size $N$ and\n",
    "$1$ indexed (since there is no $0$ side on the die). The game of DieN is\n",
    "played as follows:\n",
    "\n",
    "1.  You start with $0$ dollars.\n",
    "\n",
    "2.  At any time you have the option to roll the die or to quit the game.\n",
    "\n",
    "    1.  **ROLL**:\n",
    "\n",
    "        1.  If you roll a number not in `is_bad_side`, you receive that\n",
    "            many dollars (e.g., if you roll the number $2$ and $2$ is\n",
    "            not a bad side -- meaning the second element of the vector\n",
    "            `is_bad_side` is $0$, then you receive $2$ dollars). Repeat\n",
    "            step 2.\n",
    "\n",
    "        2.  If you roll a number in `is_bad_side`, then you lose all the\n",
    "            money obtained in previous rolls and the game ends.\n",
    "\n",
    "    2.  **QUIT**:\n",
    "\n",
    "        1.  You keep all the money gained from previous rolls and the\n",
    "            game ends.\n",
    "\n",
    "## Procedure\n",
    "\n",
    "-   You will implement your solution using the `solve()` method\n",
    "    in the code below.\n",
    "    \n",
    "-   Your return value should be the number of dollars you expect to\n",
    "    win for a specific value of `is_bad_side`, if you follow an\n",
    "    optimal policy. That is, what is the value of the optimal\n",
    "    state-value function for the initial state of the game (starting\n",
    "    with $0$ dollars)? Your answer must be correct to $3$ decimal\n",
    "    places, truncated (e.g., 3.14159265 becomes 3.141).\n",
    "\n",
    "-   To solve this problem, you will need to determine an optimal policy\n",
    "    for the game of DieN, given a particular configuration of the die.\n",
    "    As you will see, the action that is optimal will depend on your\n",
    "    current bankroll (i.e., how much money you've won so far).\n",
    "\n",
    "-   You can try solving this problem by creating an MDP of the game\n",
    "    (states, actions, transition function, reward function, and assume a\n",
    "    discount rate of $\\gamma=1$) and then calculating the optimal\n",
    "    state-value function.\n",
    "\n",
    "## Resources\n",
    "\n",
    "The concepts explored in this homework are covered by:\n",
    "\n",
    "-   Lecture Lesson 1: Smoov & Curly's Bogus Journey\n",
    "\n",
    "-   Chapter 3 (3.6 Optimal Policies and Optimal Value Functions) and\n",
    "    Chapter 4 (4.3-4.4 Policy Iteration, Value Iteration) of\n",
    "    http://incompleteideas.net/book/the-book-2nd.html\n",
    "\n",
    "-   Chapters 1-2 of 'Algorithms for Sequential Decision Making', M.\n",
    "    Littman, 1996\n",
    "\n",
    "## Submission\n",
    "\n",
    "-   The due date is indicated on the Canvas page for this assignment.\n",
    "    Make sure you have your timezone in Canvas set to ensure the\n",
    "    deadline is accurate.\n",
    "\n",
    "-   Submit your finished notebook on Gradescope. Your grade is based on\n",
    "    a set of hidden test cases. You will have unlimited submissions -\n",
    "    only the last score is kept.\n",
    "\n",
    "-   Use the template below to implement your code. We have also provided\n",
    "    some test cases for you. If your code passes the given test cases,\n",
    "    it will run (though possibly not pass all the tests) on Gradescope.\n",
    "\n",
    "-   Gradescope is using *python 3.6.x* and *numpy==1.18.0*, and you can\n",
    "    use any core library (i.e., anything in the Python standard library).\n",
    "    No other library can be used.  Also, make sure the name of your\n",
    "    notebook matches the name of the provided notebook.  Gradescope times\n",
    "    out after 10 minutes."
   ]
  },
  {
   "cell_type": "code",
   "execution_count": 1,
   "metadata": {
    "ExecuteTime": {
     "end_time": "2022-05-28T05:08:13.019557Z",
     "start_time": "2022-05-28T05:08:13.014764Z"
    }
   },
   "outputs": [],
   "source": [
    "#################\n",
    "# DO NOT REMOVE\n",
    "# Versions\n",
    "# numpy==1.18.0\n",
    "################\n",
    "import numpy as np\n",
    "\n",
    "\n",
    "class MDPAgent(object):\n",
    "    def __init__(self):\n",
    "        pass\n",
    "\n",
    "    def solve(self, is_bad_side):\n",
    "        # setting up the mdp\n",
    "        n = len(is_bad_side)\n",
    "        # we will assume that the agent quits if he gains n*10 money\n",
    "        # to make the state space finite.\n",
    "        max_s = n * 10 + 2\n",
    "        v_values = {state: 0 for state in np.arange(0, max_s+1)}\n",
    "        v_values[-1] = 0 # loser state\n",
    "        # we have to have a separate state for losing (i.e. terminal state) to differentiate between it and the starting state (i.e. s=0)\n",
    "        optimal_policy = {state: 0 for state in np.arange(0, max_s+1)} # no policy from the losing state\n",
    "\n",
    "        # policy evaluation\n",
    "        max_iterations = 1000\n",
    "        gamma = 1  # discount rate\n",
    "        theta = 1e-4  # convergence threshold\n",
    "        iteration = 0\n",
    "        while iteration < max_iterations:\n",
    "            delta = 0\n",
    "            for s in v_values.keys():\n",
    "                if s < 0:\n",
    "                    continue\n",
    "                v = v_values[s]\n",
    "                # quitting\n",
    "                v_quit = gamma * v_values[s] # if you quit, that's it, you just quit with whatever you have.\n",
    "                # rolling\n",
    "                v_roll = 0 # rolling is stochastic\n",
    "                for amount, is_bad in enumerate(is_bad_side, start=1): # we need to consider each outcome of rolling\n",
    "                    if is_bad: # if it is a bad side\n",
    "                        r = -s # you lose all the money that you have gained\n",
    "                        s_prime = -1 # and you land at the \"loser\" state\n",
    "                    else: # if it is not a bad side\n",
    "                        r = amount # your reward is the same as the die side\n",
    "                        s_prime = min(s + amount, max_s) # but we can't exceed a certain amount, to maintain a finite state space\n",
    "                    \n",
    "                    # Bellman equation\n",
    "                    v_roll += (r + gamma * v_values[s_prime]) / n # transition probability = 1/n\n",
    "                if v_roll > v_quit: # which was better then? quitting or rolling?\n",
    "                    v_values[s] = v_roll\n",
    "                    optimal_policy[s] = 1\n",
    "                else:\n",
    "                    v_values[s] = v_quit\n",
    "                    optimal_policy[s] = 0\n",
    "                delta = max(delta, abs(v_values[s] - v)) # log the changes in the optimal value function since last iteration\n",
    "            iteration += 1\n",
    "            if delta < theta: # if the change is very small (i.e. < θ), then VI has converged.\n",
    "                print(f\"Converged at iteration {iteration}\")\n",
    "                break\n",
    "\n",
    "        \"\"\"Implement the agent\"\"\"\n",
    "        return v_values[0]\n"
   ]
  },
  {
   "cell_type": "markdown",
   "metadata": {},
   "source": [
    "## Test cases\n",
    "\n",
    "We have provided some test cases for you to help verify your implementation."
   ]
  },
  {
   "cell_type": "code",
   "execution_count": 2,
   "metadata": {
    "ExecuteTime": {
     "end_time": "2022-05-28T05:08:13.506260Z",
     "start_time": "2022-05-28T05:08:13.481056Z"
    }
   },
   "outputs": [
    {
     "name": "stderr",
     "output_type": "stream",
     "text": [
      "test_case_1 (__main__.TestDieNNotebook) ... ok\n",
      "test_case_2 (__main__.TestDieNNotebook) ... ok\n",
      "test_case_3 (__main__.TestDieNNotebook) ... "
     ]
    },
    {
     "name": "stdout",
     "output_type": "stream",
     "text": [
      "Converged at iteration 3\n",
      "Converged at iteration 4\n",
      "Converged at iteration 3\n"
     ]
    },
    {
     "name": "stderr",
     "output_type": "stream",
     "text": [
      "ok\n",
      "\n",
      "----------------------------------------------------------------------\n",
      "Ran 3 tests in 0.054s\n",
      "\n",
      "OK\n"
     ]
    },
    {
     "data": {
      "text/plain": [
       "<unittest.main.TestProgram at 0x109dcdc70>"
      ]
     },
     "execution_count": 2,
     "metadata": {},
     "output_type": "execute_result"
    }
   ],
   "source": [
    "## DO NOT MODIFY THIS CODE.  This code will ensure that your submission\n",
    "## will work proberly with the autograder\n",
    "\n",
    "import unittest\n",
    "\n",
    "class TestDieNNotebook(unittest.TestCase):\n",
    "    def test_case_1(self):\n",
    "        agent = MDPAgent()\n",
    "        np.testing.assert_almost_equal(\n",
    "            agent.solve(is_bad_side=[1, 1, 1, 0, 0, 0]),\n",
    "            2.583,\n",
    "            decimal=3\n",
    "        )\n",
    "        \n",
    "    def test_case_2(self):\n",
    "        agent = MDPAgent()\n",
    "        np.testing.assert_almost_equal(\n",
    "            agent.solve(\n",
    "                is_bad_side=[1, 1, 1, 1, 0, 0, 0, 0, 1, 0, 1, 0, 1, 1, 0, 1, 0, 0, 0, 1, 0]\n",
    "            ),\n",
    "            7.379,\n",
    "            decimal=3\n",
    "        )\n",
    "        \n",
    "    def test_case_3(self):\n",
    "        agent = MDPAgent()\n",
    "\n",
    "        np.testing.assert_almost_equal(\n",
    "            agent.solve(\n",
    "                is_bad_side=[1, 1, 1, 1, 1, 1, 0, 1, 0, 1, 1, 0, 1, 0, 1, 0, 0, 1, 0, 0, 1, 0]\n",
    "            ),\n",
    "            6.314,\n",
    "            decimal=3\n",
    "        )\n",
    "\n",
    "unittest.main(argv=[''], verbosity=2, exit=False)"
   ]
  },
  {
   "cell_type": "code",
   "execution_count": null,
   "metadata": {},
   "outputs": [],
   "source": []
  }
 ],
 "metadata": {
  "kernelspec": {
   "display_name": "Python 3 (ipykernel)",
   "language": "python",
   "name": "python3"
  },
  "language_info": {
   "codemirror_mode": {
    "name": "ipython",
    "version": 3
   },
   "file_extension": ".py",
   "mimetype": "text/x-python",
   "name": "python",
   "nbconvert_exporter": "python",
   "pygments_lexer": "ipython3",
   "version": "3.9.5"
  },
  "pycharm": {
   "stem_cell": {
    "cell_type": "raw",
    "metadata": {
     "collapsed": false
    },
    "source": []
   }
  },
  "toc": {
   "base_numbering": 1,
   "nav_menu": {},
   "number_sections": true,
   "sideBar": true,
   "skip_h1_title": false,
   "title_cell": "Table of Contents",
   "title_sidebar": "Contents",
   "toc_cell": false,
   "toc_position": {},
   "toc_section_display": true,
   "toc_window_display": false
  }
 },
 "nbformat": 4,
 "nbformat_minor": 1
}
