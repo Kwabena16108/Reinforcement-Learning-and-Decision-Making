{
 "cells": [
  {
   "cell_type": "code",
   "execution_count": 1,
   "id": "b72cd1f0",
   "metadata": {},
   "outputs": [],
   "source": [
    "import matplotlib.pyplot as plt\n",
    "import numpy as np\n",
    "import pandas as pd\n",
    "from joblib import Parallel, delayed\n",
    "from tqdm.notebook import tqdm"
   ]
  },
  {
   "cell_type": "markdown",
   "id": "eab4f47a",
   "metadata": {},
   "source": [
    "# Environment"
   ]
  },
  {
   "cell_type": "markdown",
   "id": "b4da646e",
   "metadata": {},
   "source": [
    "## Defining States"
   ]
  },
  {
   "cell_type": "code",
   "execution_count": 96,
   "id": "a52029a4",
   "metadata": {},
   "outputs": [],
   "source": [
    "class State(object):\n",
    "    def __init__(self, symbol, vector, is_terminal=False):\n",
    "        self.symbol = symbol\n",
    "        self.vector = vector\n",
    "        self.right = None\n",
    "        self.left = None\n",
    "        self.is_terminal = is_terminal\n",
    "    \n",
    "    def set_neighbors(self, right, left):\n",
    "        self.right = right\n",
    "        self.left = left\n",
    "        \n",
    "    def __repr__(self):\n",
    "        return self.symbol"
   ]
  },
  {
   "cell_type": "code",
   "execution_count": 97,
   "id": "0174a7a1",
   "metadata": {},
   "outputs": [],
   "source": [
    "symbols = \"BCDEF\"\n",
    "n_symbols = len(symbols)\n",
    "\n",
    "states = dict()\n",
    "for i, symbol in enumerate(symbols):\n",
    "    v = np.zeros((len(symbols), 1))\n",
    "    v[i] = 1\n",
    "    states[symbol] = State(symbol, v)\n",
    "\n",
    "    # now we add their neighbors\n",
    "for i, symbol in enumerate(symbols):\n",
    "    state = states[symbol]\n",
    "    if i > 0:\n",
    "        state.left = states[symbols[i-1]]\n",
    "    if i < len(symbols)-1:\n",
    "        state.right = states[symbols[i+1]]\n",
    "        \n",
    "states[\"B\"].left = State(\"A\", vector=None, is_terminal=True)\n",
    "states[\"F\"].right = State(\"G\", vector=None, is_terminal=True)"
   ]
  },
  {
   "cell_type": "code",
   "execution_count": 98,
   "id": "3d39cde9",
   "metadata": {
    "scrolled": true
   },
   "outputs": [
    {
     "name": "stdout",
     "output_type": "stream",
     "text": [
      "C <- B -> A\n",
      "D <- C -> B\n",
      "E <- D -> C\n",
      "F <- E -> D\n",
      "G <- F -> E\n"
     ]
    }
   ],
   "source": [
    "# show states and their neighbors\n",
    "for s in states.values():\n",
    "    print(f\"{s.right} <- {s} -> {s.left}\")"
   ]
  },
  {
   "cell_type": "markdown",
   "id": "8d52670d",
   "metadata": {},
   "source": [
    "# Generating dataset"
   ]
  },
  {
   "cell_type": "code",
   "execution_count": 99,
   "id": "0105579c",
   "metadata": {},
   "outputs": [],
   "source": [
    "class Sequence(object):\n",
    "    def __init__(self, states, reward):\n",
    "        self.states = states\n",
    "        self.reward = reward\n",
    "        \n",
    "    def get_symbols(self):\n",
    "        return [s.symbol for s in self.states]\n",
    "    \n",
    "    def get_vectors(self):\n",
    "        return [s.vector for s in self.states]\n",
    "    \n",
    "    def __repr__(self):\n",
    "        return str([s for s in self.states])\n",
    "    \n",
    "    \n",
    "class Dataset(object):\n",
    "    def __init__(self, sequences):\n",
    "        self.sequences = sequences\n",
    "        \n",
    "    def get_symbols(self):\n",
    "        return [seq.get_symbols() for seq in self.sequences]\n",
    "    \n",
    "    def get_vectors(self):\n",
    "        return [seq.get_vectors() for seq in self.sequences]\n",
    "    \n",
    "    def __repr__(self):\n",
    "        return f\"A dataset of {len(self.sequences)} sequences.\""
   ]
  },
  {
   "cell_type": "code",
   "execution_count": 100,
   "id": "36b3daac",
   "metadata": {},
   "outputs": [],
   "source": [
    "def random_walk(init_state=\"D\"):\n",
    "    seq = [states[init_state]]\n",
    "    reward = None\n",
    "    while reward is None:\n",
    "        s = seq[-1]\n",
    "        seq.append(s.left if np.random.random() < 0.5 else s.right)\n",
    "        if seq[-1].symbol == \"A\": # next state\n",
    "            reward = 0\n",
    "        elif seq[-1].symbol == \"G\":\n",
    "            reward = 1\n",
    "    return Sequence(seq, reward)"
   ]
  },
  {
   "cell_type": "code",
   "execution_count": 101,
   "id": "7ddc0e31",
   "metadata": {},
   "outputs": [],
   "source": [
    "n_sets = 100\n",
    "n_sequences = 10 # episode"
   ]
  },
  {
   "cell_type": "code",
   "execution_count": 132,
   "id": "fb037426",
   "metadata": {},
   "outputs": [
    {
     "data": {
      "text/plain": [
       "[D, C, D, E, F, E, D, C, D, E, F, E, F, G]"
      ]
     },
     "execution_count": 132,
     "metadata": {},
     "output_type": "execute_result"
    }
   ],
   "source": [
    "np.random.seed(42) # to make sure we are getting the same datasets\n",
    "\n",
    "datasets = []\n",
    "for i in range(n_sets):\n",
    "    sequences = [random_walk() for _ in range(n_sequences)]\n",
    "    datasets.append(Dataset(sequences))\n",
    "\n",
    "datasets[0].sequences[0]"
   ]
  },
  {
   "cell_type": "markdown",
   "id": "7ed06a48",
   "metadata": {},
   "source": [
    "# Calculating the theoretical true value of $w$"
   ]
  },
  {
   "cell_type": "code",
   "execution_count": 133,
   "id": "e6be714d",
   "metadata": {},
   "outputs": [
    {
     "data": {
      "text/plain": [
       "array([[0.16666667],\n",
       "       [0.33333333],\n",
       "       [0.5       ],\n",
       "       [0.66666667],\n",
       "       [0.83333333]])"
      ]
     },
     "execution_count": 133,
     "metadata": {},
     "output_type": "execute_result"
    }
   ],
   "source": [
    "I = np.identity(n_symbols)\n",
    "Q = np.array([ # available transition probabilities without going to the terminal state\n",
    "    # B  C  D  E  F\n",
    "    [0, 0.5, 0, 0, 0],\n",
    "    [0.5, 0, 0.5, 0, 0],\n",
    "    [0, 0.5, 0, 0.5, 0],\n",
    "    [0, 0, 0.5, 0, 0.5],\n",
    "    [0, 0, 0, 0.5, 0]\n",
    "])\n",
    "h = np.array([0,0,0,0,0.5]).reshape(5,1) # true/ right hypothesis\n",
    "w_star = np.dot(np.linalg.inv(I-Q), h) # true weight \n",
    "w_star"
   ]
  },
  {
   "cell_type": "markdown",
   "id": "ffe007ce",
   "metadata": {},
   "source": [
    "# Training TD($\\lambda$)"
   ]
  },
  {
   "cell_type": "markdown",
   "id": "66cb83ec",
   "metadata": {},
   "source": [
    "<img src=\"https://production-media.paperswithcode.com/methods/Screen_Shot_2020-06-02_at_3.02.12_PM_Y0txTnB.png\" width=400>"
   ]
  },
  {
   "cell_type": "markdown",
   "id": "a9f5ce9c",
   "metadata": {},
   "source": [
    "# Experiments"
   ]
  },
  {
   "cell_type": "code",
   "execution_count": 134,
   "id": "03f8e5c5",
   "metadata": {},
   "outputs": [],
   "source": [
    "λ_vals = [0, 0.1, 0.3, 0.5, 0.7, 0.9, 1.0]\n",
    "rmse_vals = dict()"
   ]
  },
  {
   "cell_type": "code",
   "execution_count": 135,
   "id": "76910dd0",
   "metadata": {},
   "outputs": [],
   "source": [
    "def fit_td_lambda(dataset, λ, max_iterations=1000, ϵ = 0.001):\n",
    "    α = 0.01\n",
    "    w = np.ones((n_symbols, 1))/2\n",
    "    \n",
    "    for iteration in range(max_iterations):\n",
    "        old_w = w.copy()\n",
    "        dw_total = np.zeros((n_symbols, 1)) # total delta w over all sequences within training dataset\n",
    "        for seq in dataset.sequences:\n",
    "            err = np.zeros((n_symbols, 1))\n",
    "            dw = np.zeros((n_symbols, 1))\n",
    "            for k, st in enumerate(seq.states[:-1]):\n",
    "                st1 = seq.states[k+1]\n",
    "                err = λ * err + st.vector\n",
    "                if st1.is_terminal:\n",
    "                    dw += α * (seq.reward - np.dot(w.T, st.vector)) * err\n",
    "                else:\n",
    "                    dw += α * (np.dot(w.T, st1.vector) - np.dot(w.T, st.vector)) * err\n",
    "            dw_total += dw\n",
    "        \n",
    "        w += dw_total\n",
    "        \n",
    "        if (np.linalg.norm(old_w-w) <= ϵ):\n",
    "            break\n",
    "    return w"
   ]
  },
  {
   "cell_type": "code",
   "execution_count": 136,
   "id": "d3b6e05a",
   "metadata": {},
   "outputs": [
    {
     "data": {
      "application/vnd.jupyter.widget-view+json": {
       "model_id": "acb8fb75588748dca633c1c82a549c43",
       "version_major": 2,
       "version_minor": 0
      },
      "text/plain": [
       "  0%|          | 0/7 [00:00<?, ?it/s]"
      ]
     },
     "metadata": {},
     "output_type": "display_data"
    },
    {
     "data": {
      "application/vnd.jupyter.widget-view+json": {
       "model_id": "010c3cbf40d44ed1a8c60fd31afabf5f",
       "version_major": 2,
       "version_minor": 0
      },
      "text/plain": [
       "  0%|          | 0/100 [00:00<?, ?it/s]"
      ]
     },
     "metadata": {},
     "output_type": "display_data"
    },
    {
     "data": {
      "application/vnd.jupyter.widget-view+json": {
       "model_id": "bbeb3feb193c48ff8120347b355cee48",
       "version_major": 2,
       "version_minor": 0
      },
      "text/plain": [
       "  0%|          | 0/100 [00:00<?, ?it/s]"
      ]
     },
     "metadata": {},
     "output_type": "display_data"
    },
    {
     "data": {
      "application/vnd.jupyter.widget-view+json": {
       "model_id": "9555e0a959774c6db27b93b5f2f2be8e",
       "version_major": 2,
       "version_minor": 0
      },
      "text/plain": [
       "  0%|          | 0/100 [00:00<?, ?it/s]"
      ]
     },
     "metadata": {},
     "output_type": "display_data"
    },
    {
     "data": {
      "application/vnd.jupyter.widget-view+json": {
       "model_id": "92d84615c5714761b052262f186af59b",
       "version_major": 2,
       "version_minor": 0
      },
      "text/plain": [
       "  0%|          | 0/100 [00:00<?, ?it/s]"
      ]
     },
     "metadata": {},
     "output_type": "display_data"
    },
    {
     "data": {
      "application/vnd.jupyter.widget-view+json": {
       "model_id": "2c646add40ff4cefbc753a1388fa14db",
       "version_major": 2,
       "version_minor": 0
      },
      "text/plain": [
       "  0%|          | 0/100 [00:00<?, ?it/s]"
      ]
     },
     "metadata": {},
     "output_type": "display_data"
    },
    {
     "data": {
      "application/vnd.jupyter.widget-view+json": {
       "model_id": "8768e24ebf88492c946297c2fe34aad2",
       "version_major": 2,
       "version_minor": 0
      },
      "text/plain": [
       "  0%|          | 0/100 [00:00<?, ?it/s]"
      ]
     },
     "metadata": {},
     "output_type": "display_data"
    },
    {
     "data": {
      "application/vnd.jupyter.widget-view+json": {
       "model_id": "18cbcc0324f54051b330868bab309b54",
       "version_major": 2,
       "version_minor": 0
      },
      "text/plain": [
       "  0%|          | 0/100 [00:00<?, ?it/s]"
      ]
     },
     "metadata": {},
     "output_type": "display_data"
    }
   ],
   "source": [
    "for λ in tqdm(λ_vals):\n",
    "    rmse = 0\n",
    "    for d in tqdm(datasets):\n",
    "        w_hat = fit_td_lambda(d, λ)\n",
    "        rmse += np.sqrt(np.mean((w_hat-w_star)**2))\n",
    "    rmse_vals[λ] = rmse/len(datasets)"
   ]
  },
  {
   "cell_type": "code",
   "execution_count": 137,
   "id": "d1dd3283",
   "metadata": {},
   "outputs": [
    {
     "data": {
      "text/plain": [
       "{0: 0.09904674232126519,\n",
       " 0.1: 0.10066714048294786,\n",
       " 0.3: 0.10446901610069824,\n",
       " 0.5: 0.10959756243887998,\n",
       " 0.7: 0.11826204331046798,\n",
       " 0.9: 0.14036747558198875,\n",
       " 1.0: 0.17440156270967666}"
      ]
     },
     "execution_count": 137,
     "metadata": {},
     "output_type": "execute_result"
    }
   ],
   "source": [
    "rmse_vals"
   ]
  },
  {
   "cell_type": "code",
   "execution_count": 138,
   "id": "c0b31445",
   "metadata": {},
   "outputs": [],
   "source": [
    "data = list(rmse_vals.items())\n",
    "x = [i[0] for i in data]\n",
    "y = [i[1] for i in data]"
   ]
  },
  {
   "cell_type": "markdown",
   "id": "deeab75d",
   "metadata": {},
   "source": [
    "## Figure 3"
   ]
  },
  {
   "cell_type": "code",
   "execution_count": 139,
   "id": "11293423",
   "metadata": {},
   "outputs": [],
   "source": [
    "def plot_error_vs_lambda(data, label=None, annotate=None):\n",
    "    x = [i[0] for i in data]\n",
    "    y = [i[1] for i in data]\n",
    "    plt.plot(x, y, '-o', label=label)\n",
    "    if annotate is not None:\n",
    "        plt.annotate(annotate, xy=(1.0*0.8,y[-1]*0.98), fontsize=14)\n",
    "    return fig"
   ]
  },
  {
   "cell_type": "code",
   "execution_count": 140,
   "id": "2d441848",
   "metadata": {},
   "outputs": [
    {
     "data": {
      "image/png": "[encoded data removed]",
      "text/plain": [
       "<Figure size 720x432 with 1 Axes>"
      ]
     },
     "metadata": {
      "needs_background": "light"
     },
     "output_type": "display_data"
    }
   ],
   "source": [
    "data = list(rmse_vals.items())\n",
    "fig = plt.figure(figsize=(10,6))\n",
    "plot_error_vs_lambda(data, annotate=\"Widrow-Hoff\")\n",
    "plt.ylabel(\"ERROR\", fontsize=14)\n",
    "plt.xlabel(\"λ\", fontsize=14);"
   ]
  },
  {
   "cell_type": "markdown",
   "id": "e6e54e5c",
   "metadata": {},
   "source": [
    "## Figure 4"
   ]
  },
  {
   "cell_type": "code",
   "execution_count": 141,
   "id": "69897db0",
   "metadata": {},
   "outputs": [],
   "source": [
    "# fit random walk using varying alphas and lambdas\n",
    "def experiment_2(dataset, λ, α, max_iterations=1, ϵ = 0.001):\n",
    "    w = np.ones((n_symbols, 1))/2\n",
    "    \n",
    "    for iteration in range(max_iterations):\n",
    "        old_w = w.copy()\n",
    "        for seq in dataset.sequences:\n",
    "            err = np.zeros((n_symbols, 1))\n",
    "            dw = np.zeros((n_symbols, 1))\n",
    "            for k, st in enumerate(seq.states[:-1]):\n",
    "                st1 = seq.states[k+1]\n",
    "                err = λ * err + st.vector\n",
    "                if st1.is_terminal:\n",
    "                    dw += α * (seq.reward - np.dot(w.T, st.vector)) * err\n",
    "                else:\n",
    "                    dw += α * (np.dot(w.T, st1.vector) - np.dot(w.T, st.vector)) * err\n",
    "            w += dw\n",
    "        \n",
    "        if (np.linalg.norm(old_w-w) <= ϵ):\n",
    "            break\n",
    "    return w"
   ]
  },
  {
   "cell_type": "code",
   "execution_count": 142,
   "id": "bdbad23e",
   "metadata": {},
   "outputs": [],
   "source": [
    "λ_vals = [0, 0.1, 0.2, 0.3, 0.4, 0.5, 0.6, 0.7, 0.8, 0.9, 1.0]\n",
    "α_vals = [0.0, 0.05, 0.1, 0.15, 0.2, 0.25, 0.3, 0.35, 0.4, 0.45, 0.5, 0.6]\n",
    "rmse_vals2 = dict()"
   ]
  },
  {
   "cell_type": "code",
   "execution_count": 143,
   "id": "0d6e1018",
   "metadata": {},
   "outputs": [
    {
     "data": {
      "application/vnd.jupyter.widget-view+json": {
       "model_id": "e45c97886bb944b9a8f255b504594290",
       "version_major": 2,
       "version_minor": 0
      },
      "text/plain": [
       "  0%|          | 0/11 [00:00<?, ?it/s]"
      ]
     },
     "metadata": {},
     "output_type": "display_data"
    },
    {
     "data": {
      "application/vnd.jupyter.widget-view+json": {
       "model_id": "39dbac7d85c349268881f916f9cd88cb",
       "version_major": 2,
       "version_minor": 0
      },
      "text/plain": [
       "  0%|          | 0/12 [00:00<?, ?it/s]"
      ]
     },
     "metadata": {},
     "output_type": "display_data"
    },
    {
     "data": {
      "application/vnd.jupyter.widget-view+json": {
       "model_id": "8297e7a458104cccac6823f1f7502710",
       "version_major": 2,
       "version_minor": 0
      },
      "text/plain": [
       "  0%|          | 0/12 [00:00<?, ?it/s]"
      ]
     },
     "metadata": {},
     "output_type": "display_data"
    },
    {
     "data": {
      "application/vnd.jupyter.widget-view+json": {
       "model_id": "250d9c890c6d449bb5b05960fc709813",
       "version_major": 2,
       "version_minor": 0
      },
      "text/plain": [
       "  0%|          | 0/12 [00:00<?, ?it/s]"
      ]
     },
     "metadata": {},
     "output_type": "display_data"
    },
    {
     "data": {
      "application/vnd.jupyter.widget-view+json": {
       "model_id": "07b42b0e0d8c48c48e4d1e6b1fb55a51",
       "version_major": 2,
       "version_minor": 0
      },
      "text/plain": [
       "  0%|          | 0/12 [00:00<?, ?it/s]"
      ]
     },
     "metadata": {},
     "output_type": "display_data"
    },
    {
     "data": {
      "application/vnd.jupyter.widget-view+json": {
       "model_id": "502f7a8ec00147e38de939a7b2127307",
       "version_major": 2,
       "version_minor": 0
      },
      "text/plain": [
       "  0%|          | 0/12 [00:00<?, ?it/s]"
      ]
     },
     "metadata": {},
     "output_type": "display_data"
    },
    {
     "data": {
      "application/vnd.jupyter.widget-view+json": {
       "model_id": "ea4c0a972db84fb88220225d9bb8c3d3",
       "version_major": 2,
       "version_minor": 0
      },
      "text/plain": [
       "  0%|          | 0/12 [00:00<?, ?it/s]"
      ]
     },
     "metadata": {},
     "output_type": "display_data"
    },
    {
     "data": {
      "application/vnd.jupyter.widget-view+json": {
       "model_id": "e87697e9ceb14677a4c802b2d27f2acd",
       "version_major": 2,
       "version_minor": 0
      },
      "text/plain": [
       "  0%|          | 0/12 [00:00<?, ?it/s]"
      ]
     },
     "metadata": {},
     "output_type": "display_data"
    },
    {
     "data": {
      "application/vnd.jupyter.widget-view+json": {
       "model_id": "d697fff76bd2455e8fc30d4a648f48c0",
       "version_major": 2,
       "version_minor": 0
      },
      "text/plain": [
       "  0%|          | 0/12 [00:00<?, ?it/s]"
      ]
     },
     "metadata": {},
     "output_type": "display_data"
    },
    {
     "data": {
      "application/vnd.jupyter.widget-view+json": {
       "model_id": "5dfedbf178ad47168dbfeeda5b363163",
       "version_major": 2,
       "version_minor": 0
      },
      "text/plain": [
       "  0%|          | 0/12 [00:00<?, ?it/s]"
      ]
     },
     "metadata": {},
     "output_type": "display_data"
    },
    {
     "data": {
      "application/vnd.jupyter.widget-view+json": {
       "model_id": "39e41593ada44d85b7fc9f69bc127973",
       "version_major": 2,
       "version_minor": 0
      },
      "text/plain": [
       "  0%|          | 0/12 [00:00<?, ?it/s]"
      ]
     },
     "metadata": {},
     "output_type": "display_data"
    },
    {
     "data": {
      "application/vnd.jupyter.widget-view+json": {
       "model_id": "0b2bde56ea5b4c9d8ea86e9e4a6b9334",
       "version_major": 2,
       "version_minor": 0
      },
      "text/plain": [
       "  0%|          | 0/12 [00:00<?, ?it/s]"
      ]
     },
     "metadata": {},
     "output_type": "display_data"
    }
   ],
   "source": [
    "rmse_vals2 = dict()\n",
    "for λ in tqdm(λ_vals):\n",
    "    rmse_vals2[λ] = dict()\n",
    "    for α in tqdm(α_vals):\n",
    "        w_hats = Parallel(n_jobs=-1)(delayed(experiment_2)(d, λ, α) for d in datasets)\n",
    "        rmse = 0\n",
    "        for w_hat in w_hats:\n",
    "            rmse += np.sqrt(np.mean((w_hat-w_star)**2))\n",
    "        rmse_vals2[λ][α] = rmse/len(datasets) "
   ]
  },
  {
   "cell_type": "code",
   "execution_count": 144,
   "id": "cabf0d31",
   "metadata": {},
   "outputs": [
    {
     "data": {
      "text/html": [
       "<div>\n",
       "<style scoped>\n",
       "    .dataframe tbody tr th:only-of-type {\n",
       "        vertical-align: middle;\n",
       "    }\n",
       "\n",
       "    .dataframe tbody tr th {\n",
       "        vertical-align: top;\n",
       "    }\n",
       "\n",
       "    .dataframe thead th {\n",
       "        text-align: right;\n",
       "    }\n",
       "</style>\n",
       "<table border=\"1\" class=\"dataframe\">\n",
       "  <thead>\n",
       "    <tr style=\"text-align: right;\">\n",
       "      <th></th>\n",
       "      <th>α</th>\n",
       "      <th>λ=0</th>\n",
       "      <th>λ=0.3</th>\n",
       "      <th>λ=0.8</th>\n",
       "      <th>λ=1</th>\n",
       "    </tr>\n",
       "  </thead>\n",
       "  <tbody>\n",
       "    <tr>\n",
       "      <th>0</th>\n",
       "      <td>0.00</td>\n",
       "      <td>0.235702</td>\n",
       "      <td>0.235702</td>\n",
       "      <td>0.235702</td>\n",
       "      <td>0.235702</td>\n",
       "    </tr>\n",
       "    <tr>\n",
       "      <th>1</th>\n",
       "      <td>0.05</td>\n",
       "      <td>0.174825</td>\n",
       "      <td>0.165998</td>\n",
       "      <td>0.152681</td>\n",
       "      <td>0.191294</td>\n",
       "    </tr>\n",
       "    <tr>\n",
       "      <th>2</th>\n",
       "      <td>0.10</td>\n",
       "      <td>0.130761</td>\n",
       "      <td>0.119894</td>\n",
       "      <td>0.121732</td>\n",
       "      <td>0.220198</td>\n",
       "    </tr>\n",
       "    <tr>\n",
       "      <th>3</th>\n",
       "      <td>0.15</td>\n",
       "      <td>0.102324</td>\n",
       "      <td>0.094304</td>\n",
       "      <td>0.125020</td>\n",
       "      <td>0.270073</td>\n",
       "    </tr>\n",
       "    <tr>\n",
       "      <th>4</th>\n",
       "      <td>0.20</td>\n",
       "      <td>0.089085</td>\n",
       "      <td>0.086671</td>\n",
       "      <td>0.145375</td>\n",
       "      <td>0.327883</td>\n",
       "    </tr>\n",
       "    <tr>\n",
       "      <th>5</th>\n",
       "      <td>0.25</td>\n",
       "      <td>0.092177</td>\n",
       "      <td>0.093327</td>\n",
       "      <td>0.170862</td>\n",
       "      <td>0.392216</td>\n",
       "    </tr>\n",
       "    <tr>\n",
       "      <th>6</th>\n",
       "      <td>0.30</td>\n",
       "      <td>0.121393</td>\n",
       "      <td>0.108404</td>\n",
       "      <td>0.198109</td>\n",
       "      <td>0.466678</td>\n",
       "    </tr>\n",
       "    <tr>\n",
       "      <th>7</th>\n",
       "      <td>0.35</td>\n",
       "      <td>0.207240</td>\n",
       "      <td>0.130492</td>\n",
       "      <td>0.228130</td>\n",
       "      <td>0.562103</td>\n",
       "    </tr>\n",
       "    <tr>\n",
       "      <th>8</th>\n",
       "      <td>0.40</td>\n",
       "      <td>0.426077</td>\n",
       "      <td>0.168760</td>\n",
       "      <td>0.266207</td>\n",
       "      <td>0.735113</td>\n",
       "    </tr>\n",
       "    <tr>\n",
       "      <th>9</th>\n",
       "      <td>0.45</td>\n",
       "      <td>0.965185</td>\n",
       "      <td>0.244785</td>\n",
       "      <td>0.324224</td>\n",
       "      <td>1.036934</td>\n",
       "    </tr>\n",
       "    <tr>\n",
       "      <th>10</th>\n",
       "      <td>0.50</td>\n",
       "      <td>2.217134</td>\n",
       "      <td>0.405093</td>\n",
       "      <td>0.424981</td>\n",
       "      <td>1.566755</td>\n",
       "    </tr>\n",
       "    <tr>\n",
       "      <th>11</th>\n",
       "      <td>0.60</td>\n",
       "      <td>9.809103</td>\n",
       "      <td>1.481038</td>\n",
       "      <td>0.920325</td>\n",
       "      <td>4.336391</td>\n",
       "    </tr>\n",
       "  </tbody>\n",
       "</table>\n",
       "</div>"
      ],
      "text/plain": [
       "       α       λ=0     λ=0.3     λ=0.8       λ=1\n",
       "0   0.00  0.235702  0.235702  0.235702  0.235702\n",
       "1   0.05  0.174825  0.165998  0.152681  0.191294\n",
       "2   0.10  0.130761  0.119894  0.121732  0.220198\n",
       "3   0.15  0.102324  0.094304  0.125020  0.270073\n",
       "4   0.20  0.089085  0.086671  0.145375  0.327883\n",
       "5   0.25  0.092177  0.093327  0.170862  0.392216\n",
       "6   0.30  0.121393  0.108404  0.198109  0.466678\n",
       "7   0.35  0.207240  0.130492  0.228130  0.562103\n",
       "8   0.40  0.426077  0.168760  0.266207  0.735113\n",
       "9   0.45  0.965185  0.244785  0.324224  1.036934\n",
       "10  0.50  2.217134  0.405093  0.424981  1.566755\n",
       "11  0.60  9.809103  1.481038  0.920325  4.336391"
      ]
     },
     "execution_count": 144,
     "metadata": {},
     "output_type": "execute_result"
    }
   ],
   "source": [
    "df = pd.DataFrame({\"α\": α_vals})\n",
    "for λ in [0, 0.3, 0.8, 1]:\n",
    "    df_temp = pd.DataFrame(rmse_vals2[λ].items(), columns=[\"α\", f\"λ={λ}\"])\n",
    "    df = df.merge(df_temp, on=\"α\", how=\"left\")\n",
    "df"
   ]
  },
  {
   "cell_type": "code",
   "execution_count": 145,
   "id": "04aa6665",
   "metadata": {},
   "outputs": [
    {
     "data": {
      "image/png": "[encoded data removed]",
      "text/plain": [
       "<Figure size 864x648 with 1 Axes>"
      ]
     },
     "metadata": {
      "needs_background": "light"
     },
     "output_type": "display_data"
    }
   ],
   "source": [
    "fig = plt.figure(figsize=(12, 9))\n",
    "for λ in [0, 0.3, 0.8, 1]:\n",
    "    data = list(rmse_vals2[λ].items())\n",
    "    plot_error_vs_lambda(data, label=f\"λ={λ}\")\n",
    "    \n",
    "plt.ylabel(\"ERROR\", fontsize=14)\n",
    "plt.xlabel(\"α\", fontsize=14)\n",
    "plt.ylim(0.01, 0.75)\n",
    "plt.legend(fontsize=18);"
   ]
  },
  {
   "cell_type": "markdown",
   "id": "67670a2e",
   "metadata": {},
   "source": [
    "## Figure 5"
   ]
  },
  {
   "cell_type": "code",
   "execution_count": 146,
   "id": "29ab1ef0",
   "metadata": {},
   "outputs": [
    {
     "data": {
      "text/html": [
       "<div>\n",
       "<style scoped>\n",
       "    .dataframe tbody tr th:only-of-type {\n",
       "        vertical-align: middle;\n",
       "    }\n",
       "\n",
       "    .dataframe tbody tr th {\n",
       "        vertical-align: top;\n",
       "    }\n",
       "\n",
       "    .dataframe thead th {\n",
       "        text-align: right;\n",
       "    }\n",
       "</style>\n",
       "<table border=\"1\" class=\"dataframe\">\n",
       "  <thead>\n",
       "    <tr style=\"text-align: right;\">\n",
       "      <th></th>\n",
       "      <th>α</th>\n",
       "      <th>λ=0</th>\n",
       "      <th>λ=0.1</th>\n",
       "      <th>λ=0.2</th>\n",
       "      <th>λ=0.3</th>\n",
       "      <th>λ=0.4</th>\n",
       "      <th>λ=0.5</th>\n",
       "      <th>λ=0.6</th>\n",
       "      <th>λ=0.7</th>\n",
       "      <th>λ=0.8</th>\n",
       "      <th>λ=0.9</th>\n",
       "      <th>λ=1.0</th>\n",
       "    </tr>\n",
       "  </thead>\n",
       "  <tbody>\n",
       "    <tr>\n",
       "      <th>0</th>\n",
       "      <td>0.00</td>\n",
       "      <td>0.235702</td>\n",
       "      <td>0.235702</td>\n",
       "      <td>0.235702</td>\n",
       "      <td>0.235702</td>\n",
       "      <td>0.235702</td>\n",
       "      <td>0.235702</td>\n",
       "      <td>0.235702</td>\n",
       "      <td>0.235702</td>\n",
       "      <td>0.235702</td>\n",
       "      <td>0.235702</td>\n",
       "      <td>0.235702</td>\n",
       "    </tr>\n",
       "    <tr>\n",
       "      <th>1</th>\n",
       "      <td>0.05</td>\n",
       "      <td>0.174825</td>\n",
       "      <td>0.172009</td>\n",
       "      <td>0.169066</td>\n",
       "      <td>0.165998</td>\n",
       "      <td>0.162825</td>\n",
       "      <td>0.159604</td>\n",
       "      <td>0.156478</td>\n",
       "      <td>0.153811</td>\n",
       "      <td>0.152681</td>\n",
       "      <td>0.157135</td>\n",
       "      <td>0.191294</td>\n",
       "    </tr>\n",
       "    <tr>\n",
       "      <th>2</th>\n",
       "      <td>0.10</td>\n",
       "      <td>0.130761</td>\n",
       "      <td>0.127038</td>\n",
       "      <td>0.123382</td>\n",
       "      <td>0.119894</td>\n",
       "      <td>0.116756</td>\n",
       "      <td>0.114294</td>\n",
       "      <td>0.113125</td>\n",
       "      <td>0.114548</td>\n",
       "      <td>0.121732</td>\n",
       "      <td>0.143904</td>\n",
       "      <td>0.220198</td>\n",
       "    </tr>\n",
       "    <tr>\n",
       "      <th>3</th>\n",
       "      <td>0.15</td>\n",
       "      <td>0.102324</td>\n",
       "      <td>0.099060</td>\n",
       "      <td>0.096312</td>\n",
       "      <td>0.094304</td>\n",
       "      <td>0.093420</td>\n",
       "      <td>0.094305</td>\n",
       "      <td>0.098094</td>\n",
       "      <td>0.106873</td>\n",
       "      <td>0.125020</td>\n",
       "      <td>0.163878</td>\n",
       "      <td>0.270073</td>\n",
       "    </tr>\n",
       "    <tr>\n",
       "      <th>4</th>\n",
       "      <td>0.20</td>\n",
       "      <td>0.089085</td>\n",
       "      <td>0.087016</td>\n",
       "      <td>0.086134</td>\n",
       "      <td>0.086671</td>\n",
       "      <td>0.089153</td>\n",
       "      <td>0.094433</td>\n",
       "      <td>0.103647</td>\n",
       "      <td>0.118998</td>\n",
       "      <td>0.145375</td>\n",
       "      <td>0.195625</td>\n",
       "      <td>0.327883</td>\n",
       "    </tr>\n",
       "    <tr>\n",
       "      <th>5</th>\n",
       "      <td>0.25</td>\n",
       "      <td>0.092177</td>\n",
       "      <td>0.089663</td>\n",
       "      <td>0.090323</td>\n",
       "      <td>0.093327</td>\n",
       "      <td>0.098699</td>\n",
       "      <td>0.107110</td>\n",
       "      <td>0.119888</td>\n",
       "      <td>0.139271</td>\n",
       "      <td>0.170862</td>\n",
       "      <td>0.230436</td>\n",
       "      <td>0.392216</td>\n",
       "    </tr>\n",
       "    <tr>\n",
       "      <th>6</th>\n",
       "      <td>0.30</td>\n",
       "      <td>0.121393</td>\n",
       "      <td>0.107605</td>\n",
       "      <td>0.105233</td>\n",
       "      <td>0.108404</td>\n",
       "      <td>0.115050</td>\n",
       "      <td>0.125245</td>\n",
       "      <td>0.140065</td>\n",
       "      <td>0.162086</td>\n",
       "      <td>0.198109</td>\n",
       "      <td>0.267334</td>\n",
       "      <td>0.466678</td>\n",
       "    </tr>\n",
       "    <tr>\n",
       "      <th>7</th>\n",
       "      <td>0.35</td>\n",
       "      <td>0.207240</td>\n",
       "      <td>0.152270</td>\n",
       "      <td>0.133154</td>\n",
       "      <td>0.130492</td>\n",
       "      <td>0.136218</td>\n",
       "      <td>0.147133</td>\n",
       "      <td>0.163269</td>\n",
       "      <td>0.187516</td>\n",
       "      <td>0.228130</td>\n",
       "      <td>0.308772</td>\n",
       "      <td>0.562103</td>\n",
       "    </tr>\n",
       "    <tr>\n",
       "      <th>8</th>\n",
       "      <td>0.40</td>\n",
       "      <td>0.426077</td>\n",
       "      <td>0.259725</td>\n",
       "      <td>0.191920</td>\n",
       "      <td>0.168760</td>\n",
       "      <td>0.167170</td>\n",
       "      <td>0.176991</td>\n",
       "      <td>0.193797</td>\n",
       "      <td>0.220342</td>\n",
       "      <td>0.266207</td>\n",
       "      <td>0.360523</td>\n",
       "      <td>0.735113</td>\n",
       "    </tr>\n",
       "    <tr>\n",
       "      <th>9</th>\n",
       "      <td>0.45</td>\n",
       "      <td>0.965185</td>\n",
       "      <td>0.501660</td>\n",
       "      <td>0.318798</td>\n",
       "      <td>0.244785</td>\n",
       "      <td>0.224125</td>\n",
       "      <td>0.228504</td>\n",
       "      <td>0.243551</td>\n",
       "      <td>0.271714</td>\n",
       "      <td>0.324224</td>\n",
       "      <td>0.437876</td>\n",
       "      <td>1.036934</td>\n",
       "    </tr>\n",
       "    <tr>\n",
       "      <th>10</th>\n",
       "      <td>0.50</td>\n",
       "      <td>2.217134</td>\n",
       "      <td>1.074549</td>\n",
       "      <td>0.605718</td>\n",
       "      <td>0.405093</td>\n",
       "      <td>0.337815</td>\n",
       "      <td>0.326876</td>\n",
       "      <td>0.335667</td>\n",
       "      <td>0.364117</td>\n",
       "      <td>0.424981</td>\n",
       "      <td>0.567720</td>\n",
       "      <td>1.566755</td>\n",
       "    </tr>\n",
       "    <tr>\n",
       "      <th>11</th>\n",
       "      <td>0.60</td>\n",
       "      <td>9.809103</td>\n",
       "      <td>4.943612</td>\n",
       "      <td>2.571441</td>\n",
       "      <td>1.481038</td>\n",
       "      <td>1.053031</td>\n",
       "      <td>0.851965</td>\n",
       "      <td>0.794403</td>\n",
       "      <td>0.825811</td>\n",
       "      <td>0.920325</td>\n",
       "      <td>1.190856</td>\n",
       "      <td>4.336391</td>\n",
       "    </tr>\n",
       "  </tbody>\n",
       "</table>\n",
       "</div>"
      ],
      "text/plain": [
       "       α       λ=0     λ=0.1     λ=0.2     λ=0.3     λ=0.4     λ=0.5  \\\n",
       "0   0.00  0.235702  0.235702  0.235702  0.235702  0.235702  0.235702   \n",
       "1   0.05  0.174825  0.172009  0.169066  0.165998  0.162825  0.159604   \n",
       "2   0.10  0.130761  0.127038  0.123382  0.119894  0.116756  0.114294   \n",
       "3   0.15  0.102324  0.099060  0.096312  0.094304  0.093420  0.094305   \n",
       "4   0.20  0.089085  0.087016  0.086134  0.086671  0.089153  0.094433   \n",
       "5   0.25  0.092177  0.089663  0.090323  0.093327  0.098699  0.107110   \n",
       "6   0.30  0.121393  0.107605  0.105233  0.108404  0.115050  0.125245   \n",
       "7   0.35  0.207240  0.152270  0.133154  0.130492  0.136218  0.147133   \n",
       "8   0.40  0.426077  0.259725  0.191920  0.168760  0.167170  0.176991   \n",
       "9   0.45  0.965185  0.501660  0.318798  0.244785  0.224125  0.228504   \n",
       "10  0.50  2.217134  1.074549  0.605718  0.405093  0.337815  0.326876   \n",
       "11  0.60  9.809103  4.943612  2.571441  1.481038  1.053031  0.851965   \n",
       "\n",
       "       λ=0.6     λ=0.7     λ=0.8     λ=0.9     λ=1.0  \n",
       "0   0.235702  0.235702  0.235702  0.235702  0.235702  \n",
       "1   0.156478  0.153811  0.152681  0.157135  0.191294  \n",
       "2   0.113125  0.114548  0.121732  0.143904  0.220198  \n",
       "3   0.098094  0.106873  0.125020  0.163878  0.270073  \n",
       "4   0.103647  0.118998  0.145375  0.195625  0.327883  \n",
       "5   0.119888  0.139271  0.170862  0.230436  0.392216  \n",
       "6   0.140065  0.162086  0.198109  0.267334  0.466678  \n",
       "7   0.163269  0.187516  0.228130  0.308772  0.562103  \n",
       "8   0.193797  0.220342  0.266207  0.360523  0.735113  \n",
       "9   0.243551  0.271714  0.324224  0.437876  1.036934  \n",
       "10  0.335667  0.364117  0.424981  0.567720  1.566755  \n",
       "11  0.794403  0.825811  0.920325  1.190856  4.336391  "
      ]
     },
     "execution_count": 146,
     "metadata": {},
     "output_type": "execute_result"
    }
   ],
   "source": [
    "df_all_λ = pd.DataFrame({\"α\": α_vals})\n",
    "for λ in λ_vals:\n",
    "    df_temp = pd.DataFrame(rmse_vals2[λ].items(), columns=[\"α\", f\"λ={λ}\"])\n",
    "    df_all_λ = df_all_λ.merge(df_temp, on=\"α\", how=\"left\")\n",
    "df_all_λ"
   ]
  },
  {
   "cell_type": "code",
   "execution_count": 147,
   "id": "57c88775",
   "metadata": {},
   "outputs": [
    {
     "data": {
      "text/html": [
       "<div>\n",
       "<style scoped>\n",
       "    .dataframe tbody tr th:only-of-type {\n",
       "        vertical-align: middle;\n",
       "    }\n",
       "\n",
       "    .dataframe tbody tr th {\n",
       "        vertical-align: top;\n",
       "    }\n",
       "\n",
       "    .dataframe thead th {\n",
       "        text-align: right;\n",
       "    }\n",
       "</style>\n",
       "<table border=\"1\" class=\"dataframe\">\n",
       "  <thead>\n",
       "    <tr style=\"text-align: right;\">\n",
       "      <th></th>\n",
       "      <th>λ</th>\n",
       "      <th>ERROR</th>\n",
       "    </tr>\n",
       "  </thead>\n",
       "  <tbody>\n",
       "    <tr>\n",
       "      <th>0</th>\n",
       "      <td>0.0</td>\n",
       "      <td>0.089085</td>\n",
       "    </tr>\n",
       "    <tr>\n",
       "      <th>1</th>\n",
       "      <td>0.1</td>\n",
       "      <td>0.087016</td>\n",
       "    </tr>\n",
       "    <tr>\n",
       "      <th>2</th>\n",
       "      <td>0.2</td>\n",
       "      <td>0.086134</td>\n",
       "    </tr>\n",
       "    <tr>\n",
       "      <th>3</th>\n",
       "      <td>0.3</td>\n",
       "      <td>0.086671</td>\n",
       "    </tr>\n",
       "    <tr>\n",
       "      <th>4</th>\n",
       "      <td>0.4</td>\n",
       "      <td>0.089153</td>\n",
       "    </tr>\n",
       "    <tr>\n",
       "      <th>5</th>\n",
       "      <td>0.5</td>\n",
       "      <td>0.094305</td>\n",
       "    </tr>\n",
       "    <tr>\n",
       "      <th>6</th>\n",
       "      <td>0.6</td>\n",
       "      <td>0.098094</td>\n",
       "    </tr>\n",
       "    <tr>\n",
       "      <th>7</th>\n",
       "      <td>0.7</td>\n",
       "      <td>0.106873</td>\n",
       "    </tr>\n",
       "    <tr>\n",
       "      <th>8</th>\n",
       "      <td>0.8</td>\n",
       "      <td>0.121732</td>\n",
       "    </tr>\n",
       "    <tr>\n",
       "      <th>9</th>\n",
       "      <td>0.9</td>\n",
       "      <td>0.143904</td>\n",
       "    </tr>\n",
       "    <tr>\n",
       "      <th>10</th>\n",
       "      <td>1.0</td>\n",
       "      <td>0.191294</td>\n",
       "    </tr>\n",
       "  </tbody>\n",
       "</table>\n",
       "</div>"
      ],
      "text/plain": [
       "      λ     ERROR\n",
       "0   0.0  0.089085\n",
       "1   0.1  0.087016\n",
       "2   0.2  0.086134\n",
       "3   0.3  0.086671\n",
       "4   0.4  0.089153\n",
       "5   0.5  0.094305\n",
       "6   0.6  0.098094\n",
       "7   0.7  0.106873\n",
       "8   0.8  0.121732\n",
       "9   0.9  0.143904\n",
       "10  1.0  0.191294"
      ]
     },
     "execution_count": 147,
     "metadata": {},
     "output_type": "execute_result"
    }
   ],
   "source": [
    "error_with_best_alpha = df_all_λ.min()[1:].reset_index().rename(columns={\"index\":\"λ\", 0:\"ERROR\"})\n",
    "error_with_best_alpha[\"λ\"] = error_with_best_alpha.λ.str.replace(\"λ=\", \"\").astype(float)\n",
    "error_with_best_alpha"
   ]
  },
  {
   "cell_type": "code",
   "execution_count": 149,
   "id": "c133e582",
   "metadata": {},
   "outputs": [
    {
     "data": {
      "image/png": "[encoded data removed]",
      "text/plain": [
       "<Figure size 720x432 with 1 Axes>"
      ]
     },
     "metadata": {
      "needs_background": "light"
     },
     "output_type": "display_data"
    }
   ],
   "source": [
    "data = list(zip(error_with_best_alpha.λ, error_with_best_alpha.ERROR))\n",
    "fig = plt.figure(figsize=(10, 6))\n",
    "plot_error_vs_lambda(data, annotate=\"Windrow-Hoff\")\n",
    "plt.ylabel(\"ERROR USING BEST α\", fontsize=14)\n",
    "plt.xlabel(\"λ\", fontsize=14);"
   ]
  },
  {
   "cell_type": "code",
   "execution_count": 1,
   "id": "642f10eb",
   "metadata": {},
   "outputs": [
    {
     "name": "stdout",
     "output_type": "stream",
     "text": [
      "[NbConvertApp] Converting notebook Project_1.ipynb to script\n",
      "[NbConvertApp] Writing 7734 bytes to Project_1.py\n"
     ]
    }
   ],
   "source": [
    "!jupyter nbconvert --to script Project_1.ipynb"
   ]
  },
  {
   "cell_type": "code",
   "execution_count": null,
   "id": "60f6f0e6",
   "metadata": {},
   "outputs": [],
   "source": []
  }
 ],
 "metadata": {
  "kernelspec": {
   "display_name": "Python 3 (ipykernel)",
   "language": "python",
   "name": "python3"
  },
  "language_info": {
   "codemirror_mode": {
    "name": "ipython",
    "version": 3
   },
   "file_extension": ".py",
   "mimetype": "text/x-python",
   "name": "python",
   "nbconvert_exporter": "python",
   "pygments_lexer": "ipython3",
   "version": "3.9.5"
  }
 },
 "nbformat": 4,
 "nbformat_minor": 5
}
